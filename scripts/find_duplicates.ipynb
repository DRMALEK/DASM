{
 "cells": [
  {
   "cell_type": "code",
   "execution_count": 1,
   "metadata": {},
   "outputs": [],
   "source": [
    "from imagededup.methods import CNN\n",
    "from pathlib import Path\n",
    "from imagededup.utils import plot_duplicates\n",
    "import matplotlib.pyplot as plt\n",
    "import json"
   ]
  },
  {
   "cell_type": "code",
   "execution_count": 2,
   "metadata": {},
   "outputs": [
    {
     "name": "stderr",
     "output_type": "stream",
     "text": [
      "2020-01-01 18:35:45,777: INFO Initialized: MobileNet pretrained on ImageNet dataset sliced at last conv layer and added GlobalAveragePooling\n",
      "2020-01-01 18:35:45,779: INFO Start: Image encoding generation\n",
      "2020-01-01 18:35:48,335: WARNING Invalid image file /home/malek/ml/project/unlabeled_data/data/data/_new_damaged_bridge-238.jpg:\n",
      "cannot identify image file '/home/malek/ml/project/unlabeled_data/data/data/_new_damaged_bridge-238.jpg'\n"
     ]
    },
    {
     "name": "stdout",
     "output_type": "stream",
     "text": [
      " 3/89 [>.............................] - ETA: 12:53"
     ]
    },
    {
     "name": "stderr",
     "output_type": "stream",
     "text": [
      "2020-01-01 18:36:13,175: WARNING Invalid image file /home/malek/ml/project/unlabeled_data/data/data/_new_damaged_building-214.jpg:\n",
      "image file is truncated (34 bytes not processed)\n",
      "2020-01-01 18:36:14,396: WARNING Invalid image file /home/malek/ml/project/unlabeled_data/data/data/_new_damaged_building-25.jpg:\n",
      "image file is truncated (4 bytes not processed)\n"
     ]
    },
    {
     "name": "stdout",
     "output_type": "stream",
     "text": [
      " 5/89 [>.............................] - ETA: 10:58"
     ]
    },
    {
     "name": "stderr",
     "output_type": "stream",
     "text": [
      "2020-01-01 18:36:25,307: WARNING Invalid image file /home/malek/ml/project/unlabeled_data/data/data/_new_damaged_building-326.jpg:\n",
      "image file is truncated (16 bytes not processed)\n",
      "2020-01-01 18:36:25,985: WARNING Invalid image file /home/malek/ml/project/unlabeled_data/data/data/_new_damaged_building-349.jpg:\n",
      "image file is truncated (26 bytes not processed)\n",
      "2020-01-01 18:36:26,880: WARNING Invalid image file /home/malek/ml/project/unlabeled_data/data/data/_new_damaged_building-368.jpg:\n",
      "image file is truncated (62 bytes not processed)\n"
     ]
    },
    {
     "name": "stdout",
     "output_type": "stream",
     "text": [
      " 7/89 [=>............................] - ETA: 10:37"
     ]
    },
    {
     "name": "stderr",
     "output_type": "stream",
     "text": [
      "2020-01-01 18:36:40,594: WARNING Invalid image file /home/malek/ml/project/unlabeled_data/data/data/_new_damaged_building-45.jpg:\n",
      "image file is truncated (0 bytes not processed)\n"
     ]
    },
    {
     "name": "stdout",
     "output_type": "stream",
     "text": [
      " 9/89 [==>...........................] - ETA: 10:31"
     ]
    },
    {
     "name": "stderr",
     "output_type": "stream",
     "text": [
      "2020-01-01 18:36:57,152: WARNING Invalid image file /home/malek/ml/project/unlabeled_data/data/data/_new_damaged_building-90.jpg:\n",
      "image file is truncated (50 bytes not processed)\n"
     ]
    },
    {
     "name": "stdout",
     "output_type": "stream",
     "text": [
      "11/89 [==>...........................] - ETA: 10:02"
     ]
    },
    {
     "name": "stderr",
     "output_type": "stream",
     "text": [
      "2020-01-01 18:37:11,274: WARNING Invalid image file /home/malek/ml/project/unlabeled_data/data/data/_new_damaged_road-212.jpg:\n",
      "cannot identify image file '/home/malek/ml/project/unlabeled_data/data/data/_new_damaged_road-212.jpg'\n",
      "2020-01-01 18:37:11,505: WARNING Invalid image file /home/malek/ml/project/unlabeled_data/data/data/_new_damaged_road-233.jpg:\n",
      "image file is truncated (4 bytes not processed)\n"
     ]
    },
    {
     "name": "stdout",
     "output_type": "stream",
     "text": [
      "14/89 [===>..........................] - ETA: 9:16"
     ]
    },
    {
     "name": "stderr",
     "output_type": "stream",
     "text": [
      "2020-01-01 18:37:30,599: WARNING Invalid image format WEBP!\n"
     ]
    },
    {
     "name": "stdout",
     "output_type": "stream",
     "text": [
      "24/89 [=======>......................] - ETA: 7:47"
     ]
    },
    {
     "name": "stderr",
     "output_type": "stream",
     "text": [
      "2020-01-01 18:38:38,999: WARNING Invalid image format WEBP!\n"
     ]
    },
    {
     "name": "stdout",
     "output_type": "stream",
     "text": [
      "\b\b\b\b\b\b\b\b\b\b\b\b\b\b\b\b\b\b\b\b\b\b\b\b\b\b\b\b\b\b\b\b\b\b\b\b\b\b\b\b\b\b\b\b\b\b\b\b\b\b\r",
      "25/89 [=======>......................] - ETA: 7:44"
     ]
    },
    {
     "name": "stderr",
     "output_type": "stream",
     "text": [
      "2020-01-01 18:38:50,238: WARNING Invalid image format WEBP!\n",
      "2020-01-01 18:38:56,395: WARNING Invalid image file /home/malek/ml/project/unlabeled_data/data/data/damaged_bridge-1376.jpg:\n",
      "cannot identify image file '/home/malek/ml/project/unlabeled_data/data/data/damaged_bridge-1376.jpg'\n"
     ]
    },
    {
     "name": "stdout",
     "output_type": "stream",
     "text": [
      "\b\b\b\b\b\b\b\b\b\b\b\b\b\b\b\b\b\b\b\b\b\b\b\b\b\b\b\b\b\b\b\b\b\b\b\b\b\b\b\b\b\b\b\b\b\b\b\b\b\b\r",
      "26/89 [=======>......................] - ETA: 7:44"
     ]
    },
    {
     "name": "stderr",
     "output_type": "stream",
     "text": [
      "2020-01-01 18:38:58,635: WARNING Invalid image format WEBP!\n"
     ]
    },
    {
     "name": "stdout",
     "output_type": "stream",
     "text": [
      "29/89 [========>.....................] - ETA: 7:38"
     ]
    },
    {
     "name": "stderr",
     "output_type": "stream",
     "text": [
      "2020-01-01 18:39:33,853: WARNING Invalid image format WEBP!\n",
      "2020-01-01 18:39:35,560: WARNING Invalid image file /home/malek/ml/project/unlabeled_data/data/data/damaged_bridge-1676.jpg:\n",
      "cannot identify image file '/home/malek/ml/project/unlabeled_data/data/data/damaged_bridge-1676.jpg'\n"
     ]
    },
    {
     "name": "stdout",
     "output_type": "stream",
     "text": [
      "\b\b\b\b\b\b\b\b\b\b\b\b\b\b\b\b\b\b\b\b\b\b\b\b\b\b\b\b\b\b\b\b\b\b\b\b\b\b\b\b\b\b\b\b\b\b\b\b\b\b\r",
      "30/89 [=========>....................] - ETA: 7:35"
     ]
    },
    {
     "name": "stderr",
     "output_type": "stream",
     "text": [
      "2020-01-01 18:39:37,975: WARNING Invalid image file /home/malek/ml/project/unlabeled_data/data/data/damaged_bridge-1687.jpg:\n",
      "cannot identify image file '/home/malek/ml/project/unlabeled_data/data/data/damaged_bridge-1687.jpg'\n"
     ]
    },
    {
     "name": "stdout",
     "output_type": "stream",
     "text": [
      "\b\b\b\b\b\b\b\b\b\b\b\b\b\b\b\b\b\b\b\b\b\b\b\b\b\b\b\b\b\b\b\b\b\b\b\b\b\b\b\b\b\b\b\b\b\b\b\b\b\b\r",
      "31/89 [=========>....................] - ETA: 7:28"
     ]
    },
    {
     "name": "stderr",
     "output_type": "stream",
     "text": [
      "2020-01-01 18:39:53,298: WARNING Invalid image format WEBP!\n"
     ]
    },
    {
     "name": "stdout",
     "output_type": "stream",
     "text": [
      "\b\b\b\b\b\b\b\b\b\b\b\b\b\b\b\b\b\b\b\b\b\b\b\b\b\b\b\b\b\b\b\b\b\b\b\b\b\b\b\b\b\b\b\b\b\b\b\b\b\b\r",
      "32/89 [=========>....................] - ETA: 7:20"
     ]
    },
    {
     "name": "stderr",
     "output_type": "stream",
     "text": [
      "2020-01-01 18:39:54,028: WARNING Invalid image file /home/malek/ml/project/unlabeled_data/data/data/damaged_bridge-30.jpg:\n",
      "cannot identify image file '/home/malek/ml/project/unlabeled_data/data/data/damaged_bridge-30.jpg'\n",
      "2020-01-01 18:39:56,819: WARNING Invalid image format WEBP!\n"
     ]
    },
    {
     "name": "stdout",
     "output_type": "stream",
     "text": [
      "39/89 [============>.................] - ETA: 6:14"
     ]
    },
    {
     "name": "stderr",
     "output_type": "stream",
     "text": [
      "2020-01-01 18:40:40,333: WARNING Invalid image format WEBP!\n"
     ]
    },
    {
     "name": "stdout",
     "output_type": "stream",
     "text": [
      "41/89 [============>.................] - ETA: 5:56"
     ]
    },
    {
     "name": "stderr",
     "output_type": "stream",
     "text": [
      "2020-01-01 18:40:51,979: WARNING Invalid image format WEBP!\n",
      "2020-01-01 18:40:54,211: WARNING Invalid image format WEBP!\n"
     ]
    },
    {
     "name": "stdout",
     "output_type": "stream",
     "text": [
      "43/89 [=============>................] - ETA: 5:40"
     ]
    },
    {
     "name": "stderr",
     "output_type": "stream",
     "text": [
      "2020-01-01 18:41:07,069: WARNING Invalid image format WEBP!\n",
      "2020-01-01 18:41:09,382: WARNING Invalid image file /home/malek/ml/project/unlabeled_data/data/data/damaged_building-1266.jpg:\n",
      "cannot identify image file '/home/malek/ml/project/unlabeled_data/data/data/damaged_building-1266.jpg'\n",
      "2020-01-01 18:41:09,389: WARNING Invalid image file /home/malek/ml/project/unlabeled_data/data/data/damaged_building-1267.jpg:\n",
      "cannot identify image file '/home/malek/ml/project/unlabeled_data/data/data/damaged_building-1267.jpg'\n"
     ]
    },
    {
     "name": "stdout",
     "output_type": "stream",
     "text": [
      "\b\b\b\b\b\b\b\b\b\b\b\b\b\b\b\b\b\b\b\b\b\b\b\b\b\b\b\b\b\b\b\b\b\b\b\b\b\b\b\b\b\b\b\b\b\b\b\b\b\b\r",
      "44/89 [=============>................] - ETA: 5:33"
     ]
    },
    {
     "name": "stderr",
     "output_type": "stream",
     "text": [
      "2020-01-01 18:41:13,048: WARNING Invalid image file /home/malek/ml/project/unlabeled_data/data/data/damaged_building-130.jpg:\n",
      "cannot identify image file '/home/malek/ml/project/unlabeled_data/data/data/damaged_building-130.jpg'\n",
      "2020-01-01 18:41:13,332: WARNING Invalid image format WEBP!\n",
      "2020-01-01 18:41:16,169: WARNING Invalid image format WEBP!\n"
     ]
    },
    {
     "name": "stdout",
     "output_type": "stream",
     "text": [
      "46/89 [==============>...............] - ETA: 5:18"
     ]
    },
    {
     "name": "stderr",
     "output_type": "stream",
     "text": [
      "2020-01-01 18:41:27,266: WARNING Invalid image file /home/malek/ml/project/unlabeled_data/data/data/damaged_building-1424.jpg:\n",
      "cannot identify image file '/home/malek/ml/project/unlabeled_data/data/data/damaged_building-1424.jpg'\n"
     ]
    },
    {
     "name": "stdout",
     "output_type": "stream",
     "text": [
      "\b\b\b\b\b\b\b\b\b\b\b\b\b\b\b\b\b\b\b\b\b\b\b\b\b\b\b\b\b\b\b\b\b\b\b\b\b\b\b\b\b\b\b\b\b\b\b\b\b\b\r",
      "47/89 [==============>...............] - ETA: 5:11"
     ]
    },
    {
     "name": "stderr",
     "output_type": "stream",
     "text": [
      "2020-01-01 18:41:35,298: WARNING Invalid image format WEBP!\n",
      "2020-01-01 18:41:35,784: WARNING Invalid image format WEBP!\n"
     ]
    },
    {
     "name": "stdout",
     "output_type": "stream",
     "text": [
      "\b\b\b\b\b\b\b\b\b\b\b\b\b\b\b\b\b\b\b\b\b\b\b\b\b\b\b\b\b\b\b\b\b\b\b\b\b\b\b\b\b\b\b\b\b\b\b\b\b\b\r",
      "48/89 [===============>..............] - ETA: 5:04"
     ]
    },
    {
     "name": "stderr",
     "output_type": "stream",
     "text": [
      "2020-01-01 18:41:48,556: WARNING Invalid image format WEBP!\n"
     ]
    },
    {
     "name": "stdout",
     "output_type": "stream",
     "text": [
      "\b\b\b\b\b\b\b\b\b\b\b\b\b\b\b\b\b\b\b\b\b\b\b\b\b\b\b\b\b\b\b\b\b\b\b\b\b\b\b\b\b\b\b\b\b\b\b\b\b\b\r",
      "49/89 [===============>..............] - ETA: 4:57"
     ]
    },
    {
     "name": "stderr",
     "output_type": "stream",
     "text": [
      "2020-01-01 18:41:53,146: WARNING Invalid image format WEBP!\n"
     ]
    },
    {
     "name": "stdout",
     "output_type": "stream",
     "text": [
      "\b\b\b\b\b\b\b\b\b\b\b\b\b\b\b\b\b\b\b\b\b\b\b\b\b\b\b\b\b\b\b\b\b\b\b\b\b\b\b\b\b\b\b\b\b\b\b\b\b\b\r",
      "50/89 [===============>..............] - ETA: 4:50"
     ]
    },
    {
     "name": "stderr",
     "output_type": "stream",
     "text": [
      "2020-01-01 18:42:00,815: WARNING Invalid image file /home/malek/ml/project/unlabeled_data/data/data/damaged_building-373.jpg:\n",
      "cannot identify image file '/home/malek/ml/project/unlabeled_data/data/data/damaged_building-373.jpg'\n"
     ]
    },
    {
     "name": "stdout",
     "output_type": "stream",
     "text": [
      "52/89 [================>.............] - ETA: 4:35"
     ]
    },
    {
     "name": "stderr",
     "output_type": "stream",
     "text": [
      "2020-01-01 18:42:19,585: WARNING Invalid image file /home/malek/ml/project/unlabeled_data/data/data/damaged_building-473.jpg:\n",
      "cannot identify image file '/home/malek/ml/project/unlabeled_data/data/data/damaged_building-473.jpg'\n"
     ]
    },
    {
     "name": "stdout",
     "output_type": "stream",
     "text": [
      "56/89 [=================>............] - ETA: 4:08"
     ]
    },
    {
     "name": "stderr",
     "output_type": "stream",
     "text": [
      "2020-01-01 18:42:47,306: WARNING Invalid image format WEBP!\n",
      "2020-01-01 18:42:51,833: WARNING Invalid image format WEBP!\n",
      "2020-01-01 18:42:52,185: WARNING Invalid image file /home/malek/ml/project/unlabeled_data/data/data/damaged_building-64.jpg:\n",
      "cannot identify image file '/home/malek/ml/project/unlabeled_data/data/data/damaged_building-64.jpg'\n",
      "2020-01-01 18:42:52,818: WARNING Invalid image file /home/malek/ml/project/unlabeled_data/data/data/damaged_building-657.jpg:\n",
      "cannot identify image file '/home/malek/ml/project/unlabeled_data/data/data/damaged_building-657.jpg'\n"
     ]
    },
    {
     "name": "stdout",
     "output_type": "stream",
     "text": [
      "\b\b\b\b\b\b\b\b\b\b\b\b\b\b\b\b\b\b\b\b\b\b\b\b\b\b\b\b\b\b\b\b\b\b\b\b\b\b\b\b\b\b\b\b\b\b\b\b\b\b\r",
      "57/89 [==================>...........] - ETA: 4:01"
     ]
    },
    {
     "name": "stderr",
     "output_type": "stream",
     "text": [
      "2020-01-01 18:42:56,504: WARNING Invalid image format WEBP!\n",
      "2020-01-01 18:43:03,350: WARNING Invalid image format WEBP!\n"
     ]
    },
    {
     "name": "stdout",
     "output_type": "stream",
     "text": [
      "\b\b\b\b\b\b\b\b\b\b\b\b\b\b\b\b\b\b\b\b\b\b\b\b\b\b\b\b\b\b\b\b\b\b\b\b\b\b\b\b\b\b\b\b\b\b\b\b\b\b\r",
      "58/89 [==================>...........] - ETA: 3:53"
     ]
    },
    {
     "name": "stderr",
     "output_type": "stream",
     "text": [
      "2020-01-01 18:43:04,962: WARNING Invalid image file /home/malek/ml/project/unlabeled_data/data/data/damaged_building-853.jpg:\n",
      "cannot identify image file '/home/malek/ml/project/unlabeled_data/data/data/damaged_building-853.jpg'\n",
      "2020-01-01 18:43:05,169: WARNING Invalid image format WEBP!\n",
      "2020-01-01 18:43:06,362: WARNING Invalid image file /home/malek/ml/project/unlabeled_data/data/data/damaged_building-89.jpg:\n",
      "cannot identify image file '/home/malek/ml/project/unlabeled_data/data/data/damaged_building-89.jpg'\n",
      "2020-01-01 18:43:08,454: WARNING Invalid image file /home/malek/ml/project/unlabeled_data/data/data/damaged_building-925.jpg:\n",
      "cannot identify image file '/home/malek/ml/project/unlabeled_data/data/data/damaged_building-925.jpg'\n"
     ]
    },
    {
     "name": "stdout",
     "output_type": "stream",
     "text": [
      "\b\b\b\b\b\b\b\b\b\b\b\b\b\b\b\b\b\b\b\b\b\b\b\b\b\b\b\b\b\b\b\b\b\b\b\b\b\b\b\b\b\b\b\b\b\b\b\b\b\b\r",
      "59/89 [==================>...........] - ETA: 3:46"
     ]
    },
    {
     "name": "stderr",
     "output_type": "stream",
     "text": [
      "2020-01-01 18:43:14,727: WARNING Invalid image file /home/malek/ml/project/unlabeled_data/data/data/damaged_road-1027.jpg:\n",
      "cannot identify image file '/home/malek/ml/project/unlabeled_data/data/data/damaged_road-1027.jpg'\n"
     ]
    },
    {
     "name": "stdout",
     "output_type": "stream",
     "text": [
      "62/89 [===================>..........] - ETA: 3:23"
     ]
    },
    {
     "name": "stderr",
     "output_type": "stream",
     "text": [
      "2020-01-01 18:43:34,362: WARNING Invalid image file /home/malek/ml/project/unlabeled_data/data/data/damaged_road-1203.jpg:\n",
      "cannot identify image file '/home/malek/ml/project/unlabeled_data/data/data/damaged_road-1203.jpg'\n",
      "2020-01-01 18:43:34,384: WARNING Invalid image file /home/malek/ml/project/unlabeled_data/data/data/damaged_road-1204.jpg:\n",
      "cannot identify image file '/home/malek/ml/project/unlabeled_data/data/data/damaged_road-1204.jpg'\n",
      "2020-01-01 18:43:35,516: WARNING Invalid image format WEBP!\n"
     ]
    },
    {
     "name": "stdout",
     "output_type": "stream",
     "text": [
      "66/89 [=====================>........] - ETA: 2:52"
     ]
    },
    {
     "name": "stderr",
     "output_type": "stream",
     "text": [
      "2020-01-01 18:44:03,058: WARNING Invalid image format WEBP!\n"
     ]
    },
    {
     "name": "stdout",
     "output_type": "stream",
     "text": [
      "\b\b\b\b\b\b\b\b\b\b\b\b\b\b\b\b\b\b\b\b\b\b\b\b\b\b\b\b\b\b\b\b\b\b\b\b\b\b\b\b\b\b\b\b\b\b\b\b\b\b\r",
      "67/89 [=====================>........] - ETA: 2:44"
     ]
    },
    {
     "name": "stderr",
     "output_type": "stream",
     "text": [
      "2020-01-01 18:44:09,489: WARNING Invalid image format WEBP!\n"
     ]
    },
    {
     "name": "stdout",
     "output_type": "stream",
     "text": [
      "\b\b\b\b\b\b\b\b\b\b\b\b\b\b\b\b\b\b\b\b\b\b\b\b\b\b\b\b\b\b\b\b\b\b\b\b\b\b\b\b\b\b\b\b\b\b\b\b\b\b\r",
      "68/89 [=====================>........] - ETA: 2:37"
     ]
    },
    {
     "name": "stderr",
     "output_type": "stream",
     "text": [
      "2020-01-01 18:44:19,792: WARNING Invalid image file /home/malek/ml/project/unlabeled_data/data/data/damaged_road-345.jpg:\n",
      "cannot identify image file '/home/malek/ml/project/unlabeled_data/data/data/damaged_road-345.jpg'\n"
     ]
    },
    {
     "name": "stdout",
     "output_type": "stream",
     "text": [
      "70/89 [======================>.......] - ETA: 2:22"
     ]
    },
    {
     "name": "stderr",
     "output_type": "stream",
     "text": [
      "2020-01-01 18:44:30,638: WARNING Invalid image file /home/malek/ml/project/unlabeled_data/data/data/damaged_road-446.jpg:\n",
      "cannot identify image file '/home/malek/ml/project/unlabeled_data/data/data/damaged_road-446.jpg'\n"
     ]
    },
    {
     "name": "stdout",
     "output_type": "stream",
     "text": [
      "72/89 [=======================>......] - ETA: 2:07"
     ]
    },
    {
     "name": "stderr",
     "output_type": "stream",
     "text": [
      "2020-01-01 18:44:45,902: WARNING Invalid image file /home/malek/ml/project/unlabeled_data/data/data/damaged_road-620.jpg:\n",
      "cannot identify image file '/home/malek/ml/project/unlabeled_data/data/data/damaged_road-620.jpg'\n"
     ]
    },
    {
     "name": "stdout",
     "output_type": "stream",
     "text": [
      "\b\b\b\b\b\b\b\b\b\b\b\b\b\b\b\b\b\b\b\b\b\b\b\b\b\b\b\b\b\b\b\b\b\b\b\b\b\b\b\b\b\b\b\b\b\b\b\b\b\b\r",
      "73/89 [=======================>......] - ETA: 1:59"
     ]
    },
    {
     "name": "stderr",
     "output_type": "stream",
     "text": [
      "2020-01-01 18:44:53,124: WARNING Invalid image format WEBP!\n",
      "2020-01-01 18:44:54,496: WARNING Invalid image format WEBP!\n",
      "2020-01-01 18:44:55,620: WARNING Invalid image file /home/malek/ml/project/unlabeled_data/data/data/damaged_road-753.jpg:\n",
      "cannot identify image file '/home/malek/ml/project/unlabeled_data/data/data/damaged_road-753.jpg'\n"
     ]
    },
    {
     "name": "stdout",
     "output_type": "stream",
     "text": [
      "\b\b\b\b\b\b\b\b\b\b\b\b\b\b\b\b\b\b\b\b\b\b\b\b\b\b\b\b\b\b\b\b\b\b\b\b\b\b\b\b\b\b\b\b\b\b\b\b\b\b\r",
      "74/89 [=======================>......] - ETA: 1:51"
     ]
    },
    {
     "name": "stderr",
     "output_type": "stream",
     "text": [
      "2020-01-01 18:45:04,156: WARNING Invalid image file /home/malek/ml/project/unlabeled_data/data/data/damaged_road-818.jpg:\n",
      "cannot identify image file '/home/malek/ml/project/unlabeled_data/data/data/damaged_road-818.jpg'\n"
     ]
    },
    {
     "name": "stdout",
     "output_type": "stream",
     "text": [
      "\b\b\b\b\b\b\b\b\b\b\b\b\b\b\b\b\b\b\b\b\b\b\b\b\b\b\b\b\b\b\b\b\b\b\b\b\b\b\b\b\b\b\b\b\b\b\b\b\b\b\r",
      "75/89 [========================>.....] - ETA: 1:44"
     ]
    },
    {
     "name": "stderr",
     "output_type": "stream",
     "text": [
      "2020-01-01 18:45:08,382: WARNING Invalid image file /home/malek/ml/project/unlabeled_data/data/data/damaged_road-893.jpg:\n",
      "cannot identify image file '/home/malek/ml/project/unlabeled_data/data/data/damaged_road-893.jpg'\n"
     ]
    },
    {
     "name": "stdout",
     "output_type": "stream",
     "text": [
      "\b\b\b\b\b\b\b\b\b\b\b\b\b\b\b\b\b\b\b\b\b\b\b\b\b\b\b\b\b\b\b\b\b\b\b\b\b\b\b\b\b\b\b\b\b\b\b\b\b\b\r",
      "76/89 [========================>.....] - ETA: 1:36"
     ]
    },
    {
     "name": "stderr",
     "output_type": "stream",
     "text": [
      "2020-01-01 18:45:12,627: WARNING Invalid image file /home/malek/ml/project/unlabeled_data/data/data/damaged_road-93.jpg:\n",
      "cannot identify image file '/home/malek/ml/project/unlabeled_data/data/data/damaged_road-93.jpg'\n"
     ]
    },
    {
     "name": "stdout",
     "output_type": "stream",
     "text": [
      "89/89 [==============================] - 638s 7s/step\n"
     ]
    },
    {
     "name": "stderr",
     "output_type": "stream",
     "text": [
      "2020-01-01 18:46:24,432: INFO End: Image encoding generation\n",
      "2020-01-01 18:46:24,482: INFO Start: Calculating cosine similarities...\n",
      "2020-01-01 18:46:25,420: INFO End: Calculating cosine similarities.\n",
      "2020-01-01 18:46:25,519: INFO Start: Saving duplicates as json!\n",
      "2020-01-01 18:46:25,522: INFO End: Saving duplicates as json!\n"
     ]
    }
   ],
   "source": [
    "cnn = CNN()\n",
    "encodings = cnn.encode_images(image_dir=\"/home/malek/ml/project/unlabeled_data/data/data\")\n",
    "duplicates = cnn.find_duplicates_to_remove(encoding_map=encodings, min_similarity_threshold=0.85,  outfile='my_duplicates.json')"
   ]
  },
  {
   "cell_type": "code",
   "execution_count": null,
   "metadata": {},
   "outputs": [],
   "source": []
  }
 ],
 "metadata": {
  "kernelspec": {
   "display_name": "Python 3",
   "language": "python",
   "name": "python3"
  },
  "language_info": {
   "codemirror_mode": {
    "name": "ipython",
    "version": 3
   },
   "file_extension": ".py",
   "mimetype": "text/x-python",
   "name": "python",
   "nbconvert_exporter": "python",
   "pygments_lexer": "ipython3",
   "version": "3.7.3"
  }
 },
 "nbformat": 4,
 "nbformat_minor": 2
}
